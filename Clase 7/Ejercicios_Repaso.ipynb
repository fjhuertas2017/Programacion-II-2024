{
 "cells": [
  {
   "cell_type": "markdown",
   "metadata": {},
   "source": [
    "1. Ejercicio de Listas:\n",
    "o Crear una lista de 10 números enteros. Escribir una función que\n",
    "devuelva la suma de todos los números en la lista.\n"
   ]
  },
  {
   "cell_type": "code",
   "execution_count": 2,
   "metadata": {},
   "outputs": [],
   "source": [
    "mi_lista=[10,50,70,80,90,20,40,60,65,45]\n",
    "def sumar_numeros(numeros):\n",
    "    suma=0\n",
    "    for i in numeros:\n",
    "        suma=suma+i\n",
    "    return suma"
   ]
  },
  {
   "cell_type": "code",
   "execution_count": 4,
   "metadata": {},
   "outputs": [
    {
     "name": "stdout",
     "output_type": "stream",
     "text": [
      "530\n"
     ]
    }
   ],
   "source": [
    "sumas=sumar_numeros(mi_lista)\n",
    "print(sumas)"
   ]
  },
  {
   "cell_type": "markdown",
   "metadata": {},
   "source": [
    "2. Ejercicio de Tuplas:\n",
    "o Definir una tupla con 5 nombres de ciudades. Escribir una función\n",
    "que imprima cada ciudad en una línea separada"
   ]
  },
  {
   "cell_type": "code",
   "execution_count": 13,
   "metadata": {},
   "outputs": [],
   "source": [
    "ciudades_argentinas=(\"Buenos Aires\",\"Ushuaia\",\"Río Grande\",\"La Plata\",\"Madryn\")\n",
    "def mostrar_ciudades(ciudad):\n",
    "    for i in ciudad:\n",
    "        print(i)"
   ]
  },
  {
   "cell_type": "code",
   "execution_count": 14,
   "metadata": {},
   "outputs": [
    {
     "name": "stdout",
     "output_type": "stream",
     "text": [
      "Buenos Aires\n",
      "Ushuaia\n",
      "Río Grande\n",
      "La Plata\n",
      "Madryn\n"
     ]
    }
   ],
   "source": [
    "mostrar_ciudades(ciudades_argentinas)"
   ]
  },
  {
   "cell_type": "code",
   "execution_count": 15,
   "metadata": {},
   "outputs": [],
   "source": [
    "ciudades_europes=(\"Madrid\",\"Roma\",\"Paris\",\"Manchester\",\"Moscu\")"
   ]
  },
  {
   "cell_type": "code",
   "execution_count": 16,
   "metadata": {},
   "outputs": [
    {
     "name": "stdout",
     "output_type": "stream",
     "text": [
      "Madrid\n",
      "Roma\n",
      "Paris\n",
      "Manchester\n",
      "Moscu\n"
     ]
    }
   ],
   "source": [
    "mostrar_ciudades(ciudades_europes)"
   ]
  },
  {
   "cell_type": "code",
   "execution_count": 9,
   "metadata": {},
   "outputs": [
    {
     "name": "stdout",
     "output_type": "stream",
     "text": [
      "Buenos Aires\n",
      "Ushuaia\n",
      "Río Grande\n",
      "La Plata\n",
      "Madryn\n"
     ]
    }
   ],
   "source": [
    "for i in ciudades:\n",
    "    print(i)\n"
   ]
  },
  {
   "cell_type": "code",
   "execution_count": 8,
   "metadata": {},
   "outputs": [
    {
     "name": "stdout",
     "output_type": "stream",
     "text": [
      "Buenos Aires\n",
      "Ushuaia\n",
      "Río Grande\n",
      "La Plata\n",
      "Madryn\n"
     ]
    }
   ],
   "source": [
    "mostrar_ciudad()"
   ]
  },
  {
   "cell_type": "code",
   "execution_count": 6,
   "metadata": {},
   "outputs": [
    {
     "name": "stdout",
     "output_type": "stream",
     "text": [
      "Buenos Aires\n",
      "Ushuaia\n",
      "Río Grande\n",
      "La Plata\n",
      "Madryn\n"
     ]
    }
   ],
   "source": [
    "mostrar_ciudades(ciudades)"
   ]
  },
  {
   "cell_type": "markdown",
   "metadata": {},
   "source": [
    "3. Ejercicio de Diccionarios:\n",
    "o Crear un diccionario que contenga información sobre un libro\n",
    "(título, autor, año de publicación). Escribir una función que\n",
    "imprima la información del libro de manera formateada."
   ]
  },
  {
   "cell_type": "code",
   "execution_count": 17,
   "metadata": {},
   "outputs": [],
   "source": [
    "libro={\"titulo\":\"el señor de los anillos\",\n",
    "       \"autor\":\"J.R. Tolkin\",\n",
    "       \"año\": 1954}\n",
    "def mostrar_libro(libros):\n",
    "    for i in libros:\n",
    "        print(i,\":\",libros[i])"
   ]
  },
  {
   "cell_type": "code",
   "execution_count": 18,
   "metadata": {},
   "outputs": [
    {
     "name": "stdout",
     "output_type": "stream",
     "text": [
      "titulo : el señor de los anillos\n",
      "autor : J.R. Tolkin\n",
      "año : 1954\n"
     ]
    }
   ],
   "source": [
    "mostrar_libro(libro)"
   ]
  },
  {
   "cell_type": "markdown",
   "metadata": {},
   "source": [
    "4. Ejercicio de Control de Flujo:\n",
    "o Escribir un programa que pida al usuario un número y use un\n",
    "bucle for para imprimir todos los números desde 1 hasta ese\n",
    "número. Usar break para salir del bucle si se ingresa un número\n",
    "negativo."
   ]
  },
  {
   "cell_type": "code",
   "execution_count": 20,
   "metadata": {},
   "outputs": [
    {
     "name": "stdout",
     "output_type": "stream",
     "text": [
      "1\n",
      "2\n",
      "3\n",
      "4\n",
      "5\n",
      "6\n",
      "7\n",
      "8\n",
      "9\n",
      "10\n",
      "11\n",
      "12\n",
      "13\n",
      "14\n",
      "15\n",
      "16\n",
      "17\n",
      "18\n",
      "19\n",
      "20\n"
     ]
    }
   ],
   "source": [
    "numero =int(input(\"Ingrese un numero\"))\n",
    "for i in range(1,numero+1):\n",
    "    if i < 0:\n",
    "        break\n",
    "    else:\n",
    "        print(i)"
   ]
  },
  {
   "cell_type": "markdown",
   "metadata": {},
   "source": [
    "5. Ejercicio de Números Pares:\n",
    "o Crear una función que reciba una lista de números y devuelva una\n",
    "nueva lista que contenga solo los números pares.\n",
    "Utilizar continue para omitir los números impares."
   ]
  },
  {
   "cell_type": "code",
   "execution_count": 24,
   "metadata": {},
   "outputs": [],
   "source": [
    "lista_1=[10,15,20,25,30,40,55,70,90]\n",
    "def numeros_pares(lista):\n",
    "    pares=[]\n",
    "    for  i in lista:\n",
    "        if i%2 !=0:\n",
    "            continue\n",
    "        pares.append(i)\n",
    "            \n",
    "    return pares\n",
    "\n",
    "    "
   ]
  },
  {
   "cell_type": "code",
   "execution_count": 25,
   "metadata": {},
   "outputs": [
    {
     "name": "stdout",
     "output_type": "stream",
     "text": [
      "[10, 20, 30, 40, 70, 90]\n"
     ]
    }
   ],
   "source": [
    "mostar_pares=numeros_pares(lista_1)\n",
    "print(mostar_pares)"
   ]
  },
  {
   "cell_type": "markdown",
   "metadata": {},
   "source": [
    "6. Ejercicio de Contador:\n",
    "o Escribir un programa que cuente cuántos números positivos y\n",
    "negativos hay en una lista dada. Utilizar un bucle for y\n",
    "condicionales.\n"
   ]
  },
  {
   "cell_type": "code",
   "execution_count": 1,
   "metadata": {},
   "outputs": [
    {
     "name": "stdout",
     "output_type": "stream",
     "text": [
      "La cantidad de negativos es igual a 3\n",
      "La cantidad de positivos es igual a 5\n"
     ]
    }
   ],
   "source": [
    "postivos_negativos=[10,-5,50,-10,30,-25,60,80]\n",
    "negativos=[]\n",
    "positivos=[]\n",
    "for i in postivos_negativos:\n",
    "    if  i<0:\n",
    "        negativos.append(i)\n",
    "    else:\n",
    "        positivos.append(i)\n",
    "print(f\"La cantidad de negativos es igual a {len(negativos)}\")\n",
    "print(f\"La cantidad de positivos es igual a {len(positivos)}\")\n",
    "\n",
    "\n",
    "        \n",
    "        \n",
    "\n",
    "    "
   ]
  },
  {
   "cell_type": "code",
   "execution_count": 3,
   "metadata": {},
   "outputs": [
    {
     "name": "stdout",
     "output_type": "stream",
     "text": [
      "La cantidad de negativos es igual a 3\n",
      "La cantidad de positivos es igual a 5\n"
     ]
    }
   ],
   "source": [
    "postivos_negativos=[10,-5,50,-10,30,-25,60,80]\n",
    "positivos=0\n",
    "negativos=0\n",
    "for i in postivos_negativos:\n",
    "    if  i<0:\n",
    "        negativos+=1\n",
    "       \n",
    "    else:\n",
    "        positivos+=1\n",
    "print(f\"La cantidad de negativos es igual a {negativos}\")\n",
    "print(f\"La cantidad de positivos es igual a {positivos}\")"
   ]
  },
  {
   "cell_type": "markdown",
   "metadata": {},
   "source": [
    "7. Ejercicio de Tuplas y Listas:\n",
    "o Crear una lista de tuplas, donde cada tupla contenga el nombre de\n",
    "un estudiante y su calificación. Escribir una función que devuelva\n",
    "el nombre del estudiante con la calificación más alta."
   ]
  },
  {
   "cell_type": "code",
   "execution_count": 27,
   "metadata": {},
   "outputs": [],
   "source": [
    "estudiantes_matematica=[(\"Gonzalo\",8),(\"Juan\",9),(\"Pedro\",7),(\"Dario\",10),(\"Julian\",5)]\n",
    "estudiantes_programacion=[(\"Gonzalo\",8),(\"Juan\",9),(\"Pedro\",7),(\"Dario\",10),(\"Julian\",5)]\n",
    "estudiantes_ciencia_de_datos=[(\"Gonzalo\",8),(\"Juan\",9),(\"Pedro\",7),(\"Dario\",10),(\"Julian\",5)]\n",
    "calificacion_mas_al=0\n",
    "nombre_estudiante=\"\"\n",
    "def calificacion_mas_alta(lista):\n",
    "    for i in lista:\n",
    "        global calificacion_mas_al\n",
    "        global nombre_estudiante\n",
    "        if i[1]>calificacion_mas_al:\n",
    "            calificacion_mas_al=i[1]\n",
    "            nombre_estudiante=i[0]\n",
    "    return nombre_estudiante,calificacion_mas_al\n",
    "            \n"
   ]
  },
  {
   "cell_type": "code",
   "execution_count": 35,
   "metadata": {},
   "outputs": [],
   "source": [
    "estudiantes_ciencia_de_datos=[(\"Gonzalo\",8,\"Promociona\"),(\"Juan\",9,\"Promociona\"),(\"Pedro\",7,\"Regular\"),(\"Dario\",10,\"Promociona\"),(\"Julian\",5,\"Recursa\")]\n",
    "\n",
    "def calificacion_mas_alta_1(lista):\n",
    "    calificacion_mas_al=0\n",
    "    nombre_estudiante=\"\" \n",
    "    situacion=\"\"     \n",
    "    for i,j,k in lista:\n",
    "        if j >calificacion_mas_al:\n",
    "            calificacion_mas_al=j\n",
    "            nombre_estudiante=i\n",
    "            situacion=k\n",
    "            \n",
    "    return nombre_estudiante,calificacion_mas_al,situacion"
   ]
  },
  {
   "cell_type": "code",
   "execution_count": 36,
   "metadata": {},
   "outputs": [
    {
     "name": "stdout",
     "output_type": "stream",
     "text": [
      "La calificación más alta, la obtuvo Dario con una nota de 10, por lo que su situación es Promociona\n"
     ]
    }
   ],
   "source": [
    "registro_estudiante=calificacion_mas_alta_1(estudiantes_ciencia_de_datos)\n",
    "print(f\"La calificación más alta, la obtuvo {registro_estudiante[0]} con una nota de {registro_estudiante[1]}, por lo que su situación es {registro_estudiante[2]}\")"
   ]
  },
  {
   "cell_type": "code",
   "execution_count": null,
   "metadata": {},
   "outputs": [],
   "source": [
    "for i in estudiantes_notas:\n",
    "    if i[1]==calificacion_mas_al:\n",
    "        print(\"El estudiante con clasificacion mas alta es:\", i[0], \"y su nota es de:\", i[1])\n",
    " "
   ]
  },
  {
   "cell_type": "code",
   "execution_count": 19,
   "metadata": {},
   "outputs": [
    {
     "name": "stdout",
     "output_type": "stream",
     "text": [
      "esta es la calificacion mas alta 10\n"
     ]
    }
   ],
   "source": [
    "calificacion_mas_al=0\n",
    "for i in estudiantes_notas:\n",
    "       \n",
    "        if i[1]>calificacion_mas_al:\n",
    "            calificacion_mas_al=i[1]\n",
    "print(\"esta es la calificacion mas alta\", calificacion_mas_al)          "
   ]
  },
  {
   "cell_type": "code",
   "execution_count": 29,
   "metadata": {},
   "outputs": [
    {
     "name": "stdout",
     "output_type": "stream",
     "text": [
      "La calificación más alta, la obtuvo Dario con una nota de 10\n"
     ]
    }
   ],
   "source": [
    "registro_estudiante=calificacion_mas_alta(estudiantes_notas)\n",
    "print(f\"La calificación más alta, la obtuvo {registro_estudiante[0]} con una nota de {registro_estudiante[1]}\")\n"
   ]
  }
 ],
 "metadata": {
  "kernelspec": {
   "display_name": "Python 3",
   "language": "python",
   "name": "python3"
  },
  "language_info": {
   "codemirror_mode": {
    "name": "ipython",
    "version": 3
   },
   "file_extension": ".py",
   "mimetype": "text/x-python",
   "name": "python",
   "nbconvert_exporter": "python",
   "pygments_lexer": "ipython3",
   "version": "3.9.13"
  }
 },
 "nbformat": 4,
 "nbformat_minor": 2
}
